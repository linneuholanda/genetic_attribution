{
 "cells": [
  {
   "cell_type": "markdown",
   "metadata": {},
   "source": [
    "# Generating features\n",
    "\n",
    "In this notebook we code functions that retrive features and statistics from both the training and test sets. "
   ]
  },
  {
   "cell_type": "code",
   "execution_count": 1,
   "metadata": {},
   "outputs": [
    {
     "name": "stdout",
     "output_type": "stream",
     "text": [
      "CPU times: user 1 s, sys: 195 ms, total: 1.2 s\n",
      "Wall time: 10.9 s\n"
     ]
    }
   ],
   "source": [
    "%%time\n",
    "import numpy as np\n",
    "import pandas as pd\n",
    "import matplotlib.pyplot as plt\n",
    "import os\n",
    "import csv\n",
    "import requests\n",
    "from tqdm import tqdm\n",
    "from collections import OrderedDict"
   ]
  },
  {
   "cell_type": "markdown",
   "metadata": {},
   "source": [
    "## Data Directories and paths"
   ]
  },
  {
   "cell_type": "code",
   "execution_count": 2,
   "metadata": {},
   "outputs": [
    {
     "name": "stdout",
     "output_type": "stream",
     "text": [
      "CPU times: user 20 µs, sys: 3 µs, total: 23 µs\n",
      "Wall time: 26.2 µs\n"
     ]
    }
   ],
   "source": [
    "%%time\n",
    "#parent_dir = \"/content/genetic_engineering_attribution\"\n",
    "parent_dir = \"/home/rio/genetic_engineering_attribution\"\n",
    "\n",
    "### train/test directories\n",
    "train_dir = os.path.join(parent_dir,\"train\") \n",
    "test_dir = os.path.join(parent_dir,\"test\")\n",
    "labs_train_dir = os.path.join(train_dir,\"labs\")\n",
    "seqs_test_dir = os.path.join(test_dir,\"seqs\")\n",
    "\n",
    "### directories with small samples\n",
    "sample_train_dir = os.path.join(parent_dir,\"sample_train\")\n",
    "sample_test_dir = os.path.join(parent_dir,\"sample_test\")\n",
    "sample_labs_train_dir = os.path.join(sample_train_dir,\"labs\")\n",
    "sample_seqs_test_dir = os.path.join(sample_test_dir,\"seqs\")\n",
    "\n",
    "### csv paths\n",
    "train_values_path = os.path.join(train_dir,\"train_values.csv\")\n",
    "train_labels_path = os.path.join(train_dir,\"train_labels.csv\")\n",
    "test_values_path = os.path.join(train_dir,\"test_values.csv\")"
   ]
  },
  {
   "cell_type": "markdown",
   "metadata": {},
   "source": [
    "#### Loading data"
   ]
  },
  {
   "cell_type": "code",
   "execution_count": 3,
   "metadata": {},
   "outputs": [
    {
     "name": "stdout",
     "output_type": "stream",
     "text": [
      "shape of train_values_df:  (63017, 41)\n",
      "shape of train_labels_df:  (63017, 1315)\n",
      "CPU times: user 10.9 s, sys: 1.17 s, total: 12.1 s\n",
      "Wall time: 17.1 s\n"
     ]
    }
   ],
   "source": [
    "%%time\n",
    "train_values_df = pd.read_csv(train_values_path)\n",
    "train_labels_df = pd.read_csv(train_labels_path)\n",
    "print(\"shape of train_values_df: \", train_values_df.shape)\n",
    "print(\"shape of train_labels_df: \", train_labels_df.shape)"
   ]
  },
  {
   "cell_type": "markdown",
   "metadata": {},
   "source": [
    "## Generating samples as DNA snippets\n",
    "\n",
    "We now generate samples as snippets of defined length. The goal here is to make the data set more uniform, since the DNA sequences have varying lengths.  "
   ]
  },
  {
   "cell_type": "markdown",
   "metadata": {},
   "source": [
    "#### Visualizing the lengths of samples"
   ]
  },
  {
   "cell_type": "code",
   "execution_count": null,
   "metadata": {},
   "outputs": [],
   "source": [
    "def get_seque"
   ]
  },
  {
   "cell_type": "code",
   "execution_count": null,
   "metadata": {},
   "outputs": [],
   "source": [
    "seq_lengths_dict = {}\n"
   ]
  }
 ],
 "metadata": {
  "kernelspec": {
   "display_name": "genetic_attribution",
   "language": "python",
   "name": "genetic_attribution"
  },
  "language_info": {
   "codemirror_mode": {
    "name": "ipython",
    "version": 3
   },
   "file_extension": ".py",
   "mimetype": "text/x-python",
   "name": "python",
   "nbconvert_exporter": "python",
   "pygments_lexer": "ipython3",
   "version": "3.8.5"
  }
 },
 "nbformat": 4,
 "nbformat_minor": 4
}
