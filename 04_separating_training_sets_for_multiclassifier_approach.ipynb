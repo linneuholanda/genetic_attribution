{
 "cells": [
  {
   "cell_type": "markdown",
   "metadata": {},
   "source": [
    "# Generating training sets for multiclassifier approach\n",
    "\n",
    "In this notebook we split the `lab_ids` in groups ang generate training/val test sets for each of these groups. We have already seen that there are `1314`unique lab ids. Our strategy here will be to separate `146` subsets of lab ids, each containing `9`lab_ids"
   ]
  },
  {
   "cell_type": "code",
   "execution_count": 1,
   "metadata": {},
   "outputs": [
    {
     "name": "stdout",
     "output_type": "stream",
     "text": [
      "CPU times: user 533 ms, sys: 39.5 ms, total: 572 ms\n",
      "Wall time: 571 ms\n"
     ]
    }
   ],
   "source": [
    "%%time\n",
    "import numpy as np\n",
    "import pandas as pd\n",
    "import matplotlib.pyplot as plt\n",
    "import os\n",
    "import shutil\n",
    "import csv\n",
    "import requests\n",
    "from tqdm import tqdm\n",
    "from collections import OrderedDict, defaultdict, Counter\n",
    "import seaborn as sns\n",
    "import json\n",
    "#from sklearn.decomposition import PCA\n",
    "#from joblib import dump, load\n",
    "import joblib\n",
    "import xgboost as xgb\n",
    "from sklearn.metrics import accuracy_score\n",
    "import shutil"
   ]
  },
  {
   "cell_type": "markdown",
   "metadata": {},
   "source": [
    "## Loading data"
   ]
  },
  {
   "cell_type": "code",
   "execution_count": 2,
   "metadata": {},
   "outputs": [],
   "source": [
    "#parent_dir = \"/content/genetic_engineering_attribution\"\n",
    "parent_dir = \"/home/rio/data_sets/genetic_engineering_attribution\""
   ]
  },
  {
   "cell_type": "markdown",
   "metadata": {},
   "source": [
    "#### Data"
   ]
  },
  {
   "cell_type": "code",
   "execution_count": 3,
   "metadata": {},
   "outputs": [
    {
     "name": "stderr",
     "output_type": "stream",
     "text": [
      "/home/rio/anaconda3/envs/genetic_attribution/lib/python3.8/site-packages/numpy/lib/arraysetops.py:580: FutureWarning: elementwise comparison failed; returning scalar instead, but in the future will perform elementwise comparison\n",
      "  mask |= (ar1 == a)\n"
     ]
    },
    {
     "name": "stdout",
     "output_type": "stream",
     "text": [
      "Shape of df_train: (1314000, 138)\n",
      "Shape of df_val: (1175000, 138)\n",
      "Shape of df_test: (1881600, 138)\n",
      "CPU times: user 56.9 s, sys: 2.18 s, total: 59 s\n",
      "Wall time: 59 s\n"
     ]
    }
   ],
   "source": [
    "%%time\n",
    "### pca directory\n",
    "pca_dir = os.path.join(parent_dir,\"pca\")\n",
    "\n",
    "### pca engineered data sets\n",
    "pca_engineered_datasets_dir = os.path.join(parent_dir,\"pca_engineered_datasets\")\n",
    "\n",
    "### pca_32_95comp dir\n",
    "pca_32_95comp_dir = os.path.join(pca_engineered_datasets_dir,\"pca_32_95comp\")\n",
    "\n",
    "### paths to csvs\n",
    "train_path = os.path.join(pca_32_95comp_dir,\"train.csv\")\n",
    "val_path = os.path.join(pca_32_95comp_dir,\"val.csv\")\n",
    "test_path = os.path.join(pca_32_95comp_dir,\"test.csv\")\n",
    "\n",
    "### loading dataframes\n",
    "df_train = pd.read_csv(train_path,index_col=0)\n",
    "df_val = pd.read_csv(val_path,index_col=0)\n",
    "df_test = pd.read_csv(test_path,index_col=0)\n",
    "\n",
    "### Printing shapes:\n",
    "print(f\"Shape of df_train: {df_train.shape}\")\n",
    "print(f\"Shape of df_val: {df_val.shape}\")\n",
    "print(f\"Shape of df_test: {df_test.shape}\")"
   ]
  },
  {
   "cell_type": "code",
   "execution_count": 4,
   "metadata": {},
   "outputs": [
    {
     "data": {
      "text/html": [
       "<div>\n",
       "<style scoped>\n",
       "    .dataframe tbody tr th:only-of-type {\n",
       "        vertical-align: middle;\n",
       "    }\n",
       "\n",
       "    .dataframe tbody tr th {\n",
       "        vertical-align: top;\n",
       "    }\n",
       "\n",
       "    .dataframe thead th {\n",
       "        text-align: right;\n",
       "    }\n",
       "</style>\n",
       "<table border=\"1\" class=\"dataframe\">\n",
       "  <thead>\n",
       "    <tr style=\"text-align: right;\">\n",
       "      <th></th>\n",
       "      <th>sequence_id</th>\n",
       "      <th>lab_id</th>\n",
       "      <th>sequence</th>\n",
       "      <th>seq_length</th>\n",
       "      <th>pca_0</th>\n",
       "      <th>pca_1</th>\n",
       "      <th>pca_2</th>\n",
       "      <th>pca_3</th>\n",
       "      <th>pca_4</th>\n",
       "      <th>pca_5</th>\n",
       "      <th>...</th>\n",
       "      <th>species_budding_yeast</th>\n",
       "      <th>species_fly</th>\n",
       "      <th>species_human</th>\n",
       "      <th>species_mouse</th>\n",
       "      <th>species_mustard_weed</th>\n",
       "      <th>species_nematode</th>\n",
       "      <th>species_other</th>\n",
       "      <th>species_rat</th>\n",
       "      <th>species_synthetic</th>\n",
       "      <th>species_zebrafish</th>\n",
       "    </tr>\n",
       "  </thead>\n",
       "  <tbody>\n",
       "    <tr>\n",
       "      <th>21170</th>\n",
       "      <td>1V42L</td>\n",
       "      <td>5H71LUBY</td>\n",
       "      <td>TGTCGGGTTTCGCCACCTCTGACTTGAGCGTC</td>\n",
       "      <td>32</td>\n",
       "      <td>-0.655459</td>\n",
       "      <td>-0.575996</td>\n",
       "      <td>-0.701846</td>\n",
       "      <td>0.865317</td>\n",
       "      <td>0.394443</td>\n",
       "      <td>-0.357696</td>\n",
       "      <td>...</td>\n",
       "      <td>0.0</td>\n",
       "      <td>0.0</td>\n",
       "      <td>0.0</td>\n",
       "      <td>0.0</td>\n",
       "      <td>0.0</td>\n",
       "      <td>0.0</td>\n",
       "      <td>0.0</td>\n",
       "      <td>0.0</td>\n",
       "      <td>0.0</td>\n",
       "      <td>0.0</td>\n",
       "    </tr>\n",
       "    <tr>\n",
       "      <th>8650</th>\n",
       "      <td>E4O93</td>\n",
       "      <td>IJEA3NUI</td>\n",
       "      <td>CGCTCCGGCGACGTCGCGCGCGGTGAGCACCG</td>\n",
       "      <td>32</td>\n",
       "      <td>-1.731101</td>\n",
       "      <td>0.675946</td>\n",
       "      <td>0.288456</td>\n",
       "      <td>-0.085549</td>\n",
       "      <td>-0.743270</td>\n",
       "      <td>0.606746</td>\n",
       "      <td>...</td>\n",
       "      <td>0.0</td>\n",
       "      <td>0.0</td>\n",
       "      <td>1.0</td>\n",
       "      <td>0.0</td>\n",
       "      <td>0.0</td>\n",
       "      <td>0.0</td>\n",
       "      <td>0.0</td>\n",
       "      <td>0.0</td>\n",
       "      <td>0.0</td>\n",
       "      <td>0.0</td>\n",
       "    </tr>\n",
       "    <tr>\n",
       "      <th>5336</th>\n",
       "      <td>2O2BC</td>\n",
       "      <td>L78GOBQS</td>\n",
       "      <td>GGGCTGAACTTGCGCTCCATGGTGCTGTTGCT</td>\n",
       "      <td>32</td>\n",
       "      <td>-0.457642</td>\n",
       "      <td>0.275613</td>\n",
       "      <td>1.727689</td>\n",
       "      <td>0.708453</td>\n",
       "      <td>-0.365478</td>\n",
       "      <td>-0.432843</td>\n",
       "      <td>...</td>\n",
       "      <td>0.0</td>\n",
       "      <td>0.0</td>\n",
       "      <td>1.0</td>\n",
       "      <td>0.0</td>\n",
       "      <td>0.0</td>\n",
       "      <td>0.0</td>\n",
       "      <td>0.0</td>\n",
       "      <td>0.0</td>\n",
       "      <td>0.0</td>\n",
       "      <td>0.0</td>\n",
       "    </tr>\n",
       "    <tr>\n",
       "      <th>24960</th>\n",
       "      <td>JQTDQ</td>\n",
       "      <td>9MEFUZQN</td>\n",
       "      <td>TCACGCGTGGTACCTCTAGAGTCGAGCGGGAT</td>\n",
       "      <td>32</td>\n",
       "      <td>-0.491189</td>\n",
       "      <td>-0.016736</td>\n",
       "      <td>0.112171</td>\n",
       "      <td>-0.025907</td>\n",
       "      <td>0.077988</td>\n",
       "      <td>0.085255</td>\n",
       "      <td>...</td>\n",
       "      <td>0.0</td>\n",
       "      <td>0.0</td>\n",
       "      <td>0.0</td>\n",
       "      <td>0.0</td>\n",
       "      <td>0.0</td>\n",
       "      <td>0.0</td>\n",
       "      <td>0.0</td>\n",
       "      <td>0.0</td>\n",
       "      <td>0.0</td>\n",
       "      <td>0.0</td>\n",
       "    </tr>\n",
       "    <tr>\n",
       "      <th>967</th>\n",
       "      <td>AULMU</td>\n",
       "      <td>36XLYYGZ</td>\n",
       "      <td>GTTTGTTTGCCGGATCAAGAGCTACCAACTCT</td>\n",
       "      <td>32</td>\n",
       "      <td>0.090328</td>\n",
       "      <td>0.859326</td>\n",
       "      <td>-0.545769</td>\n",
       "      <td>0.480141</td>\n",
       "      <td>0.397847</td>\n",
       "      <td>-0.459812</td>\n",
       "      <td>...</td>\n",
       "      <td>0.0</td>\n",
       "      <td>0.0</td>\n",
       "      <td>0.0</td>\n",
       "      <td>0.0</td>\n",
       "      <td>0.0</td>\n",
       "      <td>0.0</td>\n",
       "      <td>0.0</td>\n",
       "      <td>0.0</td>\n",
       "      <td>0.0</td>\n",
       "      <td>0.0</td>\n",
       "    </tr>\n",
       "    <tr>\n",
       "      <th>11102</th>\n",
       "      <td>WKEU5</td>\n",
       "      <td>Y81SHRRC</td>\n",
       "      <td>GCCGTTTCTTGTTCTTCCTCTGCTGTTTGCTC</td>\n",
       "      <td>32</td>\n",
       "      <td>-0.246316</td>\n",
       "      <td>-0.849993</td>\n",
       "      <td>-0.928291</td>\n",
       "      <td>2.089029</td>\n",
       "      <td>0.191597</td>\n",
       "      <td>1.500329</td>\n",
       "      <td>...</td>\n",
       "      <td>0.0</td>\n",
       "      <td>0.0</td>\n",
       "      <td>0.0</td>\n",
       "      <td>1.0</td>\n",
       "      <td>0.0</td>\n",
       "      <td>0.0</td>\n",
       "      <td>0.0</td>\n",
       "      <td>0.0</td>\n",
       "      <td>0.0</td>\n",
       "      <td>0.0</td>\n",
       "    </tr>\n",
       "    <tr>\n",
       "      <th>48167</th>\n",
       "      <td>Z1H23</td>\n",
       "      <td>ETR2SP13</td>\n",
       "      <td>CCACTGGCAGCAGCCACTGGTAACAGGATTAG</td>\n",
       "      <td>32</td>\n",
       "      <td>-0.343082</td>\n",
       "      <td>-0.378656</td>\n",
       "      <td>-0.320363</td>\n",
       "      <td>-0.402903</td>\n",
       "      <td>0.756916</td>\n",
       "      <td>0.654228</td>\n",
       "      <td>...</td>\n",
       "      <td>0.0</td>\n",
       "      <td>0.0</td>\n",
       "      <td>0.0</td>\n",
       "      <td>0.0</td>\n",
       "      <td>0.0</td>\n",
       "      <td>0.0</td>\n",
       "      <td>0.0</td>\n",
       "      <td>0.0</td>\n",
       "      <td>1.0</td>\n",
       "      <td>0.0</td>\n",
       "    </tr>\n",
       "    <tr>\n",
       "      <th>42149</th>\n",
       "      <td>6XGH6</td>\n",
       "      <td>T5R7YFPH</td>\n",
       "      <td>GGGATGGGAAGCTTCAAGTGAAAGAATGTACC</td>\n",
       "      <td>32</td>\n",
       "      <td>0.315009</td>\n",
       "      <td>-0.284040</td>\n",
       "      <td>0.628746</td>\n",
       "      <td>-0.845094</td>\n",
       "      <td>-0.465870</td>\n",
       "      <td>0.094238</td>\n",
       "      <td>...</td>\n",
       "      <td>0.0</td>\n",
       "      <td>0.0</td>\n",
       "      <td>0.0</td>\n",
       "      <td>0.0</td>\n",
       "      <td>0.0</td>\n",
       "      <td>0.0</td>\n",
       "      <td>0.0</td>\n",
       "      <td>0.0</td>\n",
       "      <td>0.0</td>\n",
       "      <td>0.0</td>\n",
       "    </tr>\n",
       "  </tbody>\n",
       "</table>\n",
       "<p>8 rows × 138 columns</p>\n",
       "</div>"
      ],
      "text/plain": [
       "      sequence_id    lab_id                          sequence  seq_length  \\\n",
       "21170       1V42L  5H71LUBY  TGTCGGGTTTCGCCACCTCTGACTTGAGCGTC          32   \n",
       "8650        E4O93  IJEA3NUI  CGCTCCGGCGACGTCGCGCGCGGTGAGCACCG          32   \n",
       "5336        2O2BC  L78GOBQS  GGGCTGAACTTGCGCTCCATGGTGCTGTTGCT          32   \n",
       "24960       JQTDQ  9MEFUZQN  TCACGCGTGGTACCTCTAGAGTCGAGCGGGAT          32   \n",
       "967         AULMU  36XLYYGZ  GTTTGTTTGCCGGATCAAGAGCTACCAACTCT          32   \n",
       "11102       WKEU5  Y81SHRRC  GCCGTTTCTTGTTCTTCCTCTGCTGTTTGCTC          32   \n",
       "48167       Z1H23  ETR2SP13  CCACTGGCAGCAGCCACTGGTAACAGGATTAG          32   \n",
       "42149       6XGH6  T5R7YFPH  GGGATGGGAAGCTTCAAGTGAAAGAATGTACC          32   \n",
       "\n",
       "          pca_0     pca_1     pca_2     pca_3     pca_4     pca_5  ...  \\\n",
       "21170 -0.655459 -0.575996 -0.701846  0.865317  0.394443 -0.357696  ...   \n",
       "8650  -1.731101  0.675946  0.288456 -0.085549 -0.743270  0.606746  ...   \n",
       "5336  -0.457642  0.275613  1.727689  0.708453 -0.365478 -0.432843  ...   \n",
       "24960 -0.491189 -0.016736  0.112171 -0.025907  0.077988  0.085255  ...   \n",
       "967    0.090328  0.859326 -0.545769  0.480141  0.397847 -0.459812  ...   \n",
       "11102 -0.246316 -0.849993 -0.928291  2.089029  0.191597  1.500329  ...   \n",
       "48167 -0.343082 -0.378656 -0.320363 -0.402903  0.756916  0.654228  ...   \n",
       "42149  0.315009 -0.284040  0.628746 -0.845094 -0.465870  0.094238  ...   \n",
       "\n",
       "       species_budding_yeast  species_fly  species_human  species_mouse  \\\n",
       "21170                    0.0          0.0            0.0            0.0   \n",
       "8650                     0.0          0.0            1.0            0.0   \n",
       "5336                     0.0          0.0            1.0            0.0   \n",
       "24960                    0.0          0.0            0.0            0.0   \n",
       "967                      0.0          0.0            0.0            0.0   \n",
       "11102                    0.0          0.0            0.0            1.0   \n",
       "48167                    0.0          0.0            0.0            0.0   \n",
       "42149                    0.0          0.0            0.0            0.0   \n",
       "\n",
       "       species_mustard_weed  species_nematode  species_other  species_rat  \\\n",
       "21170                   0.0               0.0            0.0          0.0   \n",
       "8650                    0.0               0.0            0.0          0.0   \n",
       "5336                    0.0               0.0            0.0          0.0   \n",
       "24960                   0.0               0.0            0.0          0.0   \n",
       "967                     0.0               0.0            0.0          0.0   \n",
       "11102                   0.0               0.0            0.0          0.0   \n",
       "48167                   0.0               0.0            0.0          0.0   \n",
       "42149                   0.0               0.0            0.0          0.0   \n",
       "\n",
       "       species_synthetic  species_zebrafish  \n",
       "21170                0.0                0.0  \n",
       "8650                 0.0                0.0  \n",
       "5336                 0.0                0.0  \n",
       "24960                0.0                0.0  \n",
       "967                  0.0                0.0  \n",
       "11102                0.0                0.0  \n",
       "48167                1.0                0.0  \n",
       "42149                0.0                0.0  \n",
       "\n",
       "[8 rows x 138 columns]"
      ]
     },
     "execution_count": 4,
     "metadata": {},
     "output_type": "execute_result"
    }
   ],
   "source": [
    "df_train.sample(8)"
   ]
  },
  {
   "cell_type": "markdown",
   "metadata": {},
   "source": [
    "#### Generating train_splits dir"
   ]
  },
  {
   "cell_type": "code",
   "execution_count": 5,
   "metadata": {},
   "outputs": [],
   "source": [
    "def generate_dir(directory,delete_dir=True):\n",
    "    if not os.path.isdir(directory):\n",
    "        print(f\"Creating directory {directory}\")\n",
    "        os.makedirs(directory, exist_ok=True)\n",
    "    elif delete_dir:\n",
    "        print(f\"Directory {directory} already exists. Deleting an recreating.\")\n",
    "        shutil.rmtree(directory)\n",
    "        os.makedirs(directory, exist_ok=True)\n",
    "    else:\n",
    "        print(f\"Directory {directory} already exists. I will either overwrite or add files to it.\")"
   ]
  },
  {
   "cell_type": "code",
   "execution_count": 6,
   "metadata": {},
   "outputs": [],
   "source": [
    "#train_splits_dir = os.path.join(os.path.join(pca_32_95comp_dir,\"train_splits\"))\n",
    "#print(\"train_splits_dir: \", train_splits_dir)"
   ]
  },
  {
   "cell_type": "code",
   "execution_count": 7,
   "metadata": {},
   "outputs": [],
   "source": [
    "#delete_dir = True\n",
    "#generate_dir(train_splits_dir,delete_dir)"
   ]
  },
  {
   "cell_type": "markdown",
   "metadata": {},
   "source": [
    "## Generating lab_id split data sets "
   ]
  },
  {
   "cell_type": "code",
   "execution_count": 8,
   "metadata": {},
   "outputs": [],
   "source": [
    "def generate_lab_id_datasets(df,n_lab_ids=9,batch_size=1000,impurity_ratio=3,savedir=None,delete_dir=True,verbose=False):\n",
    "    generate_dir(savedir,delete_dir)\n",
    "    #if not os.path.isdir(savedir):\n",
    "    #    print(f\"Creating directory {savedir}\")\n",
    "    #    os.mkdir(savedir)\n",
    "    #elif delete_dir:\n",
    "    #    print(f\"Directory {savedir} already exists. Deleting an recreating.\")\n",
    "    #    shutil.rmtree(savedir)\n",
    "    #    os.mkdir(savedir)\n",
    "    #else:\n",
    "    #    print(f\"Directory {savedir} already exists. I will either overwrite or add files to it.\")\n",
    "    n_unique = len(df_train.lab_id.unique()) \n",
    "    assert n_unique%n_lab_ids ==0, f\"n_lab_ids must be a divisor of the number of unique lab_ids, {n_unique}\"\n",
    "    shuffled_lab_ids = np.random.permutation(np.unique(df.lab_id)).reshape(-1,n_lab_ids)\n",
    "    if verbose:\n",
    "        pbar = tqdm(shuffled_lab_ids)\n",
    "    else:\n",
    "        pbar = shuffled_lab_ids\n",
    "    for batch in pbar:\n",
    "        if verbose:\n",
    "            pbar.set_description(\"Processing batch [\"+\",\".join(batch)+\"]\\r\")\n",
    "        mask = df.lab_id.isin(batch)\n",
    "        df_batch = df.loc[mask,:]\n",
    "        if batch_size is not None:\n",
    "            #df_batch = pd.DataFrame({'col':np.random.randn(12000), 'target':np.random.randint(low = 0, high = 2, size=12000)})\n",
    "            df_batch = df_batch.groupby('lab_id').apply(lambda x: x.sample(n=batch_size))#.reset_index(drop = True)\n",
    "            df_batch.index = df_batch.index.get_level_values(1) \n",
    "        ### extracting random sample from out-of-batch classes\n",
    "        if impurity_ratio is not None:\n",
    "            df_impurity = df.loc[~mask,:].sample(impurity_ratio*batch_size,replace=True)\n",
    "        df_batch = pd.concat([df_batch,df_impurity])\n",
    "        ### saving df_batch\n",
    "        filename = \"_\".join(batch)+\".csv\"\n",
    "        savepath = os.path.join(savedir,filename)\n",
    "        if verbose:\n",
    "            pbar.set_description(f\"Writing file {savepath} to disk\")\n",
    "        df_batch.to_csv(savepath,index=True)\n",
    "    \n",
    "def generate_splits(df,n_splits,n_lab_ids=9,batch_size=1000,impurity_ratio=3,savedir=None,delete_dir=True,verbose=False):\n",
    "    #generate_dir(savedir,delete_dir)\n",
    "    #if not os.path.isdir(savedir):\n",
    "    #    print(f\"Creating directory {savedir}\")\n",
    "    #    os.mkdir(savedir)\n",
    "    #elif delete_dir:\n",
    "    #    print(f\"Directory {savedir} already exists. Deleting an recreating.\")\n",
    "    #    shutil.rmtree(savedir)\n",
    "    #    os.mkdir(savedir)\n",
    "    #else:\n",
    "    #    print(f\"Directory {savedir} already exists. I will either overwrite or add files to it.\")\n",
    "    pbar = tqdm(range(n_splits))\n",
    "    zeros = np.ceil(np.log10(n_splits)).astype(int)\n",
    "    for s in pbar:\n",
    "        split_dir = os.path.join(savedir,\"split_\"+str(s).zfill(zeros),\"data\")\n",
    "        #generate_dir(split_dir,delete_dir)\n",
    "        #split_dir = os.path.join(split_dir,\"data\") ## generating a directory for data. Generate another one for models\n",
    "        #generate_dir(split_dir,delete_dir)\n",
    "        generate_lab_id_datasets(df,n_lab_ids,batch_size,impurity_ratio,split_dir,delete_dir,verbose)\n",
    "        \n",
    "            \n",
    "    "
   ]
  },
  {
   "cell_type": "markdown",
   "metadata": {},
   "source": [
    "#### Generating lab_id splits"
   ]
  },
  {
   "cell_type": "code",
   "execution_count": 9,
   "metadata": {},
   "outputs": [
    {
     "data": {
      "text/plain": [
       "'/home/rio/data_sets/genetic_engineering_attribution/pca_engineered_datasets/pca_32_95comp/train_splits'"
      ]
     },
     "execution_count": 9,
     "metadata": {},
     "output_type": "execute_result"
    }
   ],
   "source": [
    "train_splits_dir = os.path.join(os.path.join(pca_32_95comp_dir,\"train_splits\"))\n",
    "train_splits_dir"
   ]
  },
  {
   "cell_type": "code",
   "execution_count": null,
   "metadata": {},
   "outputs": [
    {
     "name": "stderr",
     "output_type": "stream",
     "text": [
      "\r",
      "  0%|          | 0/100 [00:00<?, ?it/s]"
     ]
    },
    {
     "name": "stdout",
     "output_type": "stream",
     "text": [
      "Creating directory /home/rio/data_sets/genetic_engineering_attribution/pca_engineered_datasets/pca_32_95comp/train_splits/split_00/data\n"
     ]
    },
    {
     "name": "stderr",
     "output_type": "stream",
     "text": [
      "\r",
      "  1%|          | 1/100 [04:07<6:48:17, 247.45s/it]"
     ]
    },
    {
     "name": "stdout",
     "output_type": "stream",
     "text": [
      "Creating directory /home/rio/data_sets/genetic_engineering_attribution/pca_engineered_datasets/pca_32_95comp/train_splits/split_01/data\n"
     ]
    },
    {
     "name": "stderr",
     "output_type": "stream",
     "text": [
      "\r",
      "  2%|▏         | 2/100 [08:14<6:43:52, 247.27s/it]"
     ]
    },
    {
     "name": "stdout",
     "output_type": "stream",
     "text": [
      "Creating directory /home/rio/data_sets/genetic_engineering_attribution/pca_engineered_datasets/pca_32_95comp/train_splits/split_02/data\n"
     ]
    },
    {
     "name": "stderr",
     "output_type": "stream",
     "text": [
      "\r",
      "  3%|▎         | 3/100 [12:24<6:41:22, 248.27s/it]"
     ]
    },
    {
     "name": "stdout",
     "output_type": "stream",
     "text": [
      "Creating directory /home/rio/data_sets/genetic_engineering_attribution/pca_engineered_datasets/pca_32_95comp/train_splits/split_03/data\n"
     ]
    },
    {
     "name": "stderr",
     "output_type": "stream",
     "text": [
      "\r",
      "  4%|▍         | 4/100 [16:38<6:39:33, 249.72s/it]"
     ]
    },
    {
     "name": "stdout",
     "output_type": "stream",
     "text": [
      "Creating directory /home/rio/data_sets/genetic_engineering_attribution/pca_engineered_datasets/pca_32_95comp/train_splits/split_04/data\n"
     ]
    },
    {
     "name": "stderr",
     "output_type": "stream",
     "text": [
      "\r",
      "  5%|▌         | 5/100 [20:43<6:33:33, 248.56s/it]"
     ]
    },
    {
     "name": "stdout",
     "output_type": "stream",
     "text": [
      "Creating directory /home/rio/data_sets/genetic_engineering_attribution/pca_engineered_datasets/pca_32_95comp/train_splits/split_05/data\n"
     ]
    },
    {
     "name": "stderr",
     "output_type": "stream",
     "text": [
      "\r",
      "  6%|▌         | 6/100 [24:49<6:28:14, 247.81s/it]"
     ]
    },
    {
     "name": "stdout",
     "output_type": "stream",
     "text": [
      "Creating directory /home/rio/data_sets/genetic_engineering_attribution/pca_engineered_datasets/pca_32_95comp/train_splits/split_06/data\n"
     ]
    },
    {
     "name": "stderr",
     "output_type": "stream",
     "text": [
      "\r",
      "  7%|▋         | 7/100 [28:56<6:23:18, 247.29s/it]"
     ]
    },
    {
     "name": "stdout",
     "output_type": "stream",
     "text": [
      "Creating directory /home/rio/data_sets/genetic_engineering_attribution/pca_engineered_datasets/pca_32_95comp/train_splits/split_07/data\n"
     ]
    },
    {
     "name": "stderr",
     "output_type": "stream",
     "text": [
      "\r",
      "  8%|▊         | 8/100 [33:05<6:19:58, 247.81s/it]"
     ]
    },
    {
     "name": "stdout",
     "output_type": "stream",
     "text": [
      "Creating directory /home/rio/data_sets/genetic_engineering_attribution/pca_engineered_datasets/pca_32_95comp/train_splits/split_08/data\n"
     ]
    },
    {
     "name": "stderr",
     "output_type": "stream",
     "text": [
      "\r",
      "  9%|▉         | 9/100 [37:24<6:21:08, 251.31s/it]"
     ]
    },
    {
     "name": "stdout",
     "output_type": "stream",
     "text": [
      "Creating directory /home/rio/data_sets/genetic_engineering_attribution/pca_engineered_datasets/pca_32_95comp/train_splits/split_09/data\n"
     ]
    },
    {
     "name": "stderr",
     "output_type": "stream",
     "text": [
      "\r",
      " 10%|█         | 10/100 [41:40<6:18:58, 252.65s/it]"
     ]
    },
    {
     "name": "stdout",
     "output_type": "stream",
     "text": [
      "Creating directory /home/rio/data_sets/genetic_engineering_attribution/pca_engineered_datasets/pca_32_95comp/train_splits/split_10/data\n"
     ]
    },
    {
     "name": "stderr",
     "output_type": "stream",
     "text": [
      "\r",
      " 11%|█         | 11/100 [45:50<6:13:38, 251.89s/it]"
     ]
    },
    {
     "name": "stdout",
     "output_type": "stream",
     "text": [
      "Creating directory /home/rio/data_sets/genetic_engineering_attribution/pca_engineered_datasets/pca_32_95comp/train_splits/split_11/data\n"
     ]
    },
    {
     "name": "stderr",
     "output_type": "stream",
     "text": [
      "\r",
      " 12%|█▏        | 12/100 [49:57<6:07:32, 250.59s/it]"
     ]
    },
    {
     "name": "stdout",
     "output_type": "stream",
     "text": [
      "Creating directory /home/rio/data_sets/genetic_engineering_attribution/pca_engineered_datasets/pca_32_95comp/train_splits/split_12/data\n"
     ]
    },
    {
     "name": "stderr",
     "output_type": "stream",
     "text": [
      "\r",
      " 13%|█▎        | 13/100 [54:04<6:01:43, 249.46s/it]"
     ]
    },
    {
     "name": "stdout",
     "output_type": "stream",
     "text": [
      "Creating directory /home/rio/data_sets/genetic_engineering_attribution/pca_engineered_datasets/pca_32_95comp/train_splits/split_13/data\n"
     ]
    },
    {
     "name": "stderr",
     "output_type": "stream",
     "text": [
      "\r",
      " 14%|█▍        | 14/100 [58:11<5:56:13, 248.53s/it]"
     ]
    },
    {
     "name": "stdout",
     "output_type": "stream",
     "text": [
      "Creating directory /home/rio/data_sets/genetic_engineering_attribution/pca_engineered_datasets/pca_32_95comp/train_splits/split_14/data\n"
     ]
    },
    {
     "name": "stderr",
     "output_type": "stream",
     "text": [
      "\r",
      " 15%|█▌        | 15/100 [1:02:17<5:51:06, 247.84s/it]"
     ]
    },
    {
     "name": "stdout",
     "output_type": "stream",
     "text": [
      "Creating directory /home/rio/data_sets/genetic_engineering_attribution/pca_engineered_datasets/pca_32_95comp/train_splits/split_15/data\n"
     ]
    },
    {
     "name": "stderr",
     "output_type": "stream",
     "text": [
      "\r",
      " 16%|█▌        | 16/100 [1:06:23<5:46:15, 247.33s/it]"
     ]
    },
    {
     "name": "stdout",
     "output_type": "stream",
     "text": [
      "Creating directory /home/rio/data_sets/genetic_engineering_attribution/pca_engineered_datasets/pca_32_95comp/train_splits/split_16/data\n"
     ]
    },
    {
     "name": "stderr",
     "output_type": "stream",
     "text": [
      "\r",
      " 17%|█▋        | 17/100 [1:10:29<5:41:42, 247.02s/it]"
     ]
    },
    {
     "name": "stdout",
     "output_type": "stream",
     "text": [
      "Creating directory /home/rio/data_sets/genetic_engineering_attribution/pca_engineered_datasets/pca_32_95comp/train_splits/split_17/data\n"
     ]
    },
    {
     "name": "stderr",
     "output_type": "stream",
     "text": [
      "\r",
      " 18%|█▊        | 18/100 [1:14:35<5:37:13, 246.75s/it]"
     ]
    },
    {
     "name": "stdout",
     "output_type": "stream",
     "text": [
      "Creating directory /home/rio/data_sets/genetic_engineering_attribution/pca_engineered_datasets/pca_32_95comp/train_splits/split_18/data\n"
     ]
    },
    {
     "name": "stderr",
     "output_type": "stream",
     "text": [
      "\r",
      " 19%|█▉        | 19/100 [1:18:41<5:32:48, 246.52s/it]"
     ]
    },
    {
     "name": "stdout",
     "output_type": "stream",
     "text": [
      "Creating directory /home/rio/data_sets/genetic_engineering_attribution/pca_engineered_datasets/pca_32_95comp/train_splits/split_19/data\n"
     ]
    },
    {
     "name": "stderr",
     "output_type": "stream",
     "text": [
      "\r",
      " 20%|██        | 20/100 [1:22:47<5:28:29, 246.36s/it]"
     ]
    },
    {
     "name": "stdout",
     "output_type": "stream",
     "text": [
      "Creating directory /home/rio/data_sets/genetic_engineering_attribution/pca_engineered_datasets/pca_32_95comp/train_splits/split_20/data\n"
     ]
    },
    {
     "name": "stderr",
     "output_type": "stream",
     "text": [
      "\r",
      " 21%|██        | 21/100 [1:26:53<5:24:11, 246.22s/it]"
     ]
    },
    {
     "name": "stdout",
     "output_type": "stream",
     "text": [
      "Creating directory /home/rio/data_sets/genetic_engineering_attribution/pca_engineered_datasets/pca_32_95comp/train_splits/split_21/data\n"
     ]
    },
    {
     "name": "stderr",
     "output_type": "stream",
     "text": [
      "\r",
      " 22%|██▏       | 22/100 [1:30:59<5:19:57, 246.13s/it]"
     ]
    },
    {
     "name": "stdout",
     "output_type": "stream",
     "text": [
      "Creating directory /home/rio/data_sets/genetic_engineering_attribution/pca_engineered_datasets/pca_32_95comp/train_splits/split_22/data\n"
     ]
    },
    {
     "name": "stderr",
     "output_type": "stream",
     "text": [
      "\r",
      " 23%|██▎       | 23/100 [1:35:07<5:16:23, 246.54s/it]"
     ]
    },
    {
     "name": "stdout",
     "output_type": "stream",
     "text": [
      "Creating directory /home/rio/data_sets/genetic_engineering_attribution/pca_engineered_datasets/pca_32_95comp/train_splits/split_23/data\n"
     ]
    }
   ],
   "source": [
    "%%time\n",
    "np.random.seed(1873)\n",
    "n_splits = 100\n",
    "n_lab_ids=9\n",
    "batch_size=1000\n",
    "impurity_ratio=3\n",
    "savedir = train_splits_dir\n",
    "delete_dir = True\n",
    "verbose=False\n",
    "generate_splits(df_train,n_splits,n_lab_ids,batch_size,impurity_ratio,savedir,delete_dir,verbose)"
   ]
  },
  {
   "cell_type": "markdown",
   "metadata": {},
   "source": [
    "## Now try a simple random forest!"
   ]
  },
  {
   "cell_type": "code",
   "execution_count": null,
   "metadata": {},
   "outputs": [],
   "source": []
  },
  {
   "cell_type": "code",
   "execution_count": null,
   "metadata": {},
   "outputs": [],
   "source": []
  },
  {
   "cell_type": "code",
   "execution_count": null,
   "metadata": {},
   "outputs": [],
   "source": []
  },
  {
   "cell_type": "code",
   "execution_count": null,
   "metadata": {},
   "outputs": [],
   "source": []
  }
 ],
 "metadata": {
  "kernelspec": {
   "display_name": "Python [conda env:genetic_attribution]",
   "language": "python",
   "name": "conda-env-genetic_attribution-py"
  },
  "language_info": {
   "codemirror_mode": {
    "name": "ipython",
    "version": 3
   },
   "file_extension": ".py",
   "mimetype": "text/x-python",
   "name": "python",
   "nbconvert_exporter": "python",
   "pygments_lexer": "ipython3",
   "version": "3.8.5"
  }
 },
 "nbformat": 4,
 "nbformat_minor": 4
}
